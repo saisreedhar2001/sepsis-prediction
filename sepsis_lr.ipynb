{
 "cells": [
  {
   "cell_type": "code",
   "execution_count": 1,
   "metadata": {},
   "outputs": [],
   "source": [
    "import matplotlib.pyplot as plt\n",
    "import seaborn as sns\n",
    "import pandas as pd\n",
    "from sklearn import preprocessing\n",
    "from sklearn.model_selection import train_test_split"
   ]
  },
  {
   "cell_type": "code",
   "execution_count": 2,
   "metadata": {},
   "outputs": [],
   "source": [
    "dataset = pd.read_csv(\"sepsis.csv\")"
   ]
  },
  {
   "cell_type": "code",
   "execution_count": 3,
   "metadata": {},
   "outputs": [
    {
     "data": {
      "text/plain": [
       "0    37945\n",
       "1      864\n",
       "Name: SepsisLabel, dtype: int64"
      ]
     },
     "execution_count": 3,
     "metadata": {},
     "output_type": "execute_result"
    }
   ],
   "source": [
    "dataset['SepsisLabel'].value_counts()"
   ]
  },
  {
   "cell_type": "code",
   "execution_count": 4,
   "metadata": {},
   "outputs": [
    {
     "data": {
      "image/png": "[encoded data removed]",
      "text/plain": [
       "<Figure size 432x288 with 1 Axes>"
      ]
     },
     "metadata": {},
     "output_type": "display_data"
    },
    {
     "name": "stderr",
     "output_type": "stream",
     "text": [
      "C:\\Users\\saisr\\anaconda3\\lib\\site-packages\\seaborn\\_decorators.py:36: FutureWarning: Pass the following variable as a keyword arg: x. From version 0.12, the only valid positional argument will be `data`, and passing other arguments without an explicit keyword will result in an error or misinterpretation.\n",
      "  warnings.warn(\n"
     ]
    },
    {
     "data": {
      "image/png": "[encoded data removed]",
      "text/plain": [
       "<Figure size 432x288 with 1 Axes>"
      ]
     },
     "metadata": {
      "needs_background": "light"
     },
     "output_type": "display_data"
    }
   ],
   "source": [
    "plt.pie(dataset['SepsisLabel'].value_counts(), labels=['0','1'], autopct='%1.1f%%', shadow=True)\n",
    "plt.show()\n",
    "sns.countplot(dataset['SepsisLabel'], label=\"Count\")\n",
    "plt.show()"
   ]
  },
  {
   "cell_type": "code",
   "execution_count": 5,
   "metadata": {},
   "outputs": [],
   "source": [
    "from sklearn.utils import resample\n",
    "df_majority = dataset[dataset.SepsisLabel==0]\n",
    "df_minority = dataset[dataset.SepsisLabel==1]"
   ]
  },
  {
   "cell_type": "code",
   "execution_count": 6,
   "metadata": {},
   "outputs": [],
   "source": [
    "df_minority_upsampled = resample(df_minority, \n",
    "                                 replace=True,     # sample with replacement\n",
    "                                 n_samples=37945,    # to match majority class\n",
    "                                 random_state=123) # reproducible results"
   ]
  },
  {
   "cell_type": "code",
   "execution_count": 7,
   "metadata": {},
   "outputs": [
    {
     "data": {
      "text/html": [
       "<div>\n",
       "<style scoped>\n",
       "    .dataframe tbody tr th:only-of-type {\n",
       "        vertical-align: middle;\n",
       "    }\n",
       "\n",
       "    .dataframe tbody tr th {\n",
       "        vertical-align: top;\n",
       "    }\n",
       "\n",
       "    .dataframe thead th {\n",
       "        text-align: right;\n",
       "    }\n",
       "</style>\n",
       "<table border=\"1\" class=\"dataframe\">\n",
       "  <thead>\n",
       "    <tr style=\"text-align: right;\">\n",
       "      <th></th>\n",
       "      <th>count</th>\n",
       "      <th>mean</th>\n",
       "      <th>std</th>\n",
       "      <th>min</th>\n",
       "      <th>25%</th>\n",
       "      <th>50%</th>\n",
       "      <th>75%</th>\n",
       "      <th>max</th>\n",
       "    </tr>\n",
       "  </thead>\n",
       "  <tbody>\n",
       "    <tr>\n",
       "      <th>HR</th>\n",
       "      <td>38809.0</td>\n",
       "      <td>77.644979</td>\n",
       "      <td>28.954355</td>\n",
       "      <td>0.00</td>\n",
       "      <td>69.00</td>\n",
       "      <td>82.00</td>\n",
       "      <td>95.00</td>\n",
       "      <td>181.00</td>\n",
       "    </tr>\n",
       "    <tr>\n",
       "      <th>O2Sat</th>\n",
       "      <td>38809.0</td>\n",
       "      <td>84.406233</td>\n",
       "      <td>32.984005</td>\n",
       "      <td>0.00</td>\n",
       "      <td>95.00</td>\n",
       "      <td>97.00</td>\n",
       "      <td>99.00</td>\n",
       "      <td>100.00</td>\n",
       "    </tr>\n",
       "    <tr>\n",
       "      <th>Temp</th>\n",
       "      <td>38809.0</td>\n",
       "      <td>12.551628</td>\n",
       "      <td>17.532129</td>\n",
       "      <td>0.00</td>\n",
       "      <td>0.00</td>\n",
       "      <td>0.00</td>\n",
       "      <td>36.56</td>\n",
       "      <td>40.50</td>\n",
       "    </tr>\n",
       "    <tr>\n",
       "      <th>SBP</th>\n",
       "      <td>38809.0</td>\n",
       "      <td>102.036081</td>\n",
       "      <td>47.501863</td>\n",
       "      <td>0.00</td>\n",
       "      <td>97.00</td>\n",
       "      <td>113.00</td>\n",
       "      <td>130.00</td>\n",
       "      <td>234.50</td>\n",
       "    </tr>\n",
       "    <tr>\n",
       "      <th>MAP</th>\n",
       "      <td>38809.0</td>\n",
       "      <td>69.932561</td>\n",
       "      <td>28.396126</td>\n",
       "      <td>0.00</td>\n",
       "      <td>65.00</td>\n",
       "      <td>74.67</td>\n",
       "      <td>85.00</td>\n",
       "      <td>294.00</td>\n",
       "    </tr>\n",
       "    <tr>\n",
       "      <th>DBP</th>\n",
       "      <td>38809.0</td>\n",
       "      <td>30.840501</td>\n",
       "      <td>31.363911</td>\n",
       "      <td>0.00</td>\n",
       "      <td>0.00</td>\n",
       "      <td>40.00</td>\n",
       "      <td>59.00</td>\n",
       "      <td>287.00</td>\n",
       "    </tr>\n",
       "    <tr>\n",
       "      <th>Resp</th>\n",
       "      <td>38809.0</td>\n",
       "      <td>16.584987</td>\n",
       "      <td>7.851959</td>\n",
       "      <td>0.00</td>\n",
       "      <td>14.00</td>\n",
       "      <td>17.00</td>\n",
       "      <td>21.00</td>\n",
       "      <td>67.00</td>\n",
       "    </tr>\n",
       "    <tr>\n",
       "      <th>EtCO2</th>\n",
       "      <td>38809.0</td>\n",
       "      <td>0.000000</td>\n",
       "      <td>0.000000</td>\n",
       "      <td>0.00</td>\n",
       "      <td>0.00</td>\n",
       "      <td>0.00</td>\n",
       "      <td>0.00</td>\n",
       "      <td>0.00</td>\n",
       "    </tr>\n",
       "    <tr>\n",
       "      <th>BaseExcess</th>\n",
       "      <td>38809.0</td>\n",
       "      <td>-0.081592</td>\n",
       "      <td>1.465309</td>\n",
       "      <td>-23.00</td>\n",
       "      <td>0.00</td>\n",
       "      <td>0.00</td>\n",
       "      <td>0.00</td>\n",
       "      <td>24.00</td>\n",
       "    </tr>\n",
       "    <tr>\n",
       "      <th>HCO3</th>\n",
       "      <td>38809.0</td>\n",
       "      <td>1.940723</td>\n",
       "      <td>6.674337</td>\n",
       "      <td>0.00</td>\n",
       "      <td>0.00</td>\n",
       "      <td>0.00</td>\n",
       "      <td>0.00</td>\n",
       "      <td>48.00</td>\n",
       "    </tr>\n",
       "    <tr>\n",
       "      <th>FiO2</th>\n",
       "      <td>38809.0</td>\n",
       "      <td>0.072084</td>\n",
       "      <td>0.192467</td>\n",
       "      <td>0.00</td>\n",
       "      <td>0.00</td>\n",
       "      <td>0.00</td>\n",
       "      <td>0.00</td>\n",
       "      <td>1.00</td>\n",
       "    </tr>\n",
       "    <tr>\n",
       "      <th>pH</th>\n",
       "      <td>38809.0</td>\n",
       "      <td>0.880694</td>\n",
       "      <td>2.391544</td>\n",
       "      <td>0.00</td>\n",
       "      <td>0.00</td>\n",
       "      <td>0.00</td>\n",
       "      <td>0.00</td>\n",
       "      <td>7.58</td>\n",
       "    </tr>\n",
       "    <tr>\n",
       "      <th>PaCO2</th>\n",
       "      <td>38809.0</td>\n",
       "      <td>3.801257</td>\n",
       "      <td>12.394481</td>\n",
       "      <td>0.00</td>\n",
       "      <td>0.00</td>\n",
       "      <td>0.00</td>\n",
       "      <td>0.00</td>\n",
       "      <td>100.00</td>\n",
       "    </tr>\n",
       "    <tr>\n",
       "      <th>SaO2</th>\n",
       "      <td>38809.0</td>\n",
       "      <td>4.744621</td>\n",
       "      <td>20.518373</td>\n",
       "      <td>0.00</td>\n",
       "      <td>0.00</td>\n",
       "      <td>0.00</td>\n",
       "      <td>0.00</td>\n",
       "      <td>100.00</td>\n",
       "    </tr>\n",
       "    <tr>\n",
       "      <th>AST</th>\n",
       "      <td>38809.0</td>\n",
       "      <td>5.133551</td>\n",
       "      <td>140.155826</td>\n",
       "      <td>0.00</td>\n",
       "      <td>0.00</td>\n",
       "      <td>0.00</td>\n",
       "      <td>0.00</td>\n",
       "      <td>9640.00</td>\n",
       "    </tr>\n",
       "    <tr>\n",
       "      <th>BUN</th>\n",
       "      <td>38809.0</td>\n",
       "      <td>2.046858</td>\n",
       "      <td>9.250651</td>\n",
       "      <td>0.00</td>\n",
       "      <td>0.00</td>\n",
       "      <td>0.00</td>\n",
       "      <td>0.00</td>\n",
       "      <td>145.00</td>\n",
       "    </tr>\n",
       "    <tr>\n",
       "      <th>Alkalinephos</th>\n",
       "      <td>38809.0</td>\n",
       "      <td>1.832127</td>\n",
       "      <td>28.220754</td>\n",
       "      <td>0.00</td>\n",
       "      <td>0.00</td>\n",
       "      <td>0.00</td>\n",
       "      <td>0.00</td>\n",
       "      <td>2121.00</td>\n",
       "    </tr>\n",
       "    <tr>\n",
       "      <th>Calcium</th>\n",
       "      <td>38809.0</td>\n",
       "      <td>0.390904</td>\n",
       "      <td>1.772047</td>\n",
       "      <td>0.00</td>\n",
       "      <td>0.00</td>\n",
       "      <td>0.00</td>\n",
       "      <td>0.00</td>\n",
       "      <td>14.90</td>\n",
       "    </tr>\n",
       "    <tr>\n",
       "      <th>Chloride</th>\n",
       "      <td>38809.0</td>\n",
       "      <td>8.664240</td>\n",
       "      <td>29.023809</td>\n",
       "      <td>0.00</td>\n",
       "      <td>0.00</td>\n",
       "      <td>0.00</td>\n",
       "      <td>0.00</td>\n",
       "      <td>131.00</td>\n",
       "    </tr>\n",
       "    <tr>\n",
       "      <th>Creatinine</th>\n",
       "      <td>38809.0</td>\n",
       "      <td>0.093941</td>\n",
       "      <td>0.530594</td>\n",
       "      <td>0.00</td>\n",
       "      <td>0.00</td>\n",
       "      <td>0.00</td>\n",
       "      <td>0.00</td>\n",
       "      <td>11.90</td>\n",
       "    </tr>\n",
       "    <tr>\n",
       "      <th>Bilirubin_direct</th>\n",
       "      <td>38809.0</td>\n",
       "      <td>0.006078</td>\n",
       "      <td>0.294231</td>\n",
       "      <td>0.00</td>\n",
       "      <td>0.00</td>\n",
       "      <td>0.00</td>\n",
       "      <td>0.00</td>\n",
       "      <td>29.10</td>\n",
       "    </tr>\n",
       "    <tr>\n",
       "      <th>Glucose</th>\n",
       "      <td>38809.0</td>\n",
       "      <td>16.657193</td>\n",
       "      <td>47.370475</td>\n",
       "      <td>0.00</td>\n",
       "      <td>0.00</td>\n",
       "      <td>0.00</td>\n",
       "      <td>0.00</td>\n",
       "      <td>830.00</td>\n",
       "    </tr>\n",
       "    <tr>\n",
       "      <th>Lactate</th>\n",
       "      <td>38809.0</td>\n",
       "      <td>0.087764</td>\n",
       "      <td>0.618773</td>\n",
       "      <td>0.00</td>\n",
       "      <td>0.00</td>\n",
       "      <td>0.00</td>\n",
       "      <td>0.00</td>\n",
       "      <td>18.30</td>\n",
       "    </tr>\n",
       "    <tr>\n",
       "      <th>Magnesium</th>\n",
       "      <td>38809.0</td>\n",
       "      <td>0.158243</td>\n",
       "      <td>0.558904</td>\n",
       "      <td>0.00</td>\n",
       "      <td>0.00</td>\n",
       "      <td>0.00</td>\n",
       "      <td>0.00</td>\n",
       "      <td>8.30</td>\n",
       "    </tr>\n",
       "    <tr>\n",
       "      <th>Phosphate</th>\n",
       "      <td>38809.0</td>\n",
       "      <td>0.177209</td>\n",
       "      <td>0.847756</td>\n",
       "      <td>0.00</td>\n",
       "      <td>0.00</td>\n",
       "      <td>0.00</td>\n",
       "      <td>0.00</td>\n",
       "      <td>11.20</td>\n",
       "    </tr>\n",
       "    <tr>\n",
       "      <th>Potassium</th>\n",
       "      <td>38809.0</td>\n",
       "      <td>0.468600</td>\n",
       "      <td>1.341371</td>\n",
       "      <td>0.00</td>\n",
       "      <td>0.00</td>\n",
       "      <td>0.00</td>\n",
       "      <td>0.00</td>\n",
       "      <td>9.90</td>\n",
       "    </tr>\n",
       "    <tr>\n",
       "      <th>Bilirubin_total</th>\n",
       "      <td>38809.0</td>\n",
       "      <td>0.033966</td>\n",
       "      <td>0.714853</td>\n",
       "      <td>0.00</td>\n",
       "      <td>0.00</td>\n",
       "      <td>0.00</td>\n",
       "      <td>0.00</td>\n",
       "      <td>39.00</td>\n",
       "    </tr>\n",
       "    <tr>\n",
       "      <th>TroponinI</th>\n",
       "      <td>38809.0</td>\n",
       "      <td>0.011912</td>\n",
       "      <td>0.558026</td>\n",
       "      <td>0.00</td>\n",
       "      <td>0.00</td>\n",
       "      <td>0.00</td>\n",
       "      <td>0.00</td>\n",
       "      <td>46.00</td>\n",
       "    </tr>\n",
       "    <tr>\n",
       "      <th>Hct</th>\n",
       "      <td>38809.0</td>\n",
       "      <td>3.669637</td>\n",
       "      <td>10.099608</td>\n",
       "      <td>0.00</td>\n",
       "      <td>0.00</td>\n",
       "      <td>0.00</td>\n",
       "      <td>0.00</td>\n",
       "      <td>56.40</td>\n",
       "    </tr>\n",
       "    <tr>\n",
       "      <th>Hgb</th>\n",
       "      <td>38809.0</td>\n",
       "      <td>0.947109</td>\n",
       "      <td>3.071712</td>\n",
       "      <td>0.00</td>\n",
       "      <td>0.00</td>\n",
       "      <td>0.00</td>\n",
       "      <td>0.00</td>\n",
       "      <td>16.50</td>\n",
       "    </tr>\n",
       "    <tr>\n",
       "      <th>PTT</th>\n",
       "      <td>38809.0</td>\n",
       "      <td>1.863872</td>\n",
       "      <td>9.753456</td>\n",
       "      <td>0.00</td>\n",
       "      <td>0.00</td>\n",
       "      <td>0.00</td>\n",
       "      <td>0.00</td>\n",
       "      <td>150.00</td>\n",
       "    </tr>\n",
       "    <tr>\n",
       "      <th>WBC</th>\n",
       "      <td>38809.0</td>\n",
       "      <td>0.884586</td>\n",
       "      <td>3.654393</td>\n",
       "      <td>0.00</td>\n",
       "      <td>0.00</td>\n",
       "      <td>0.00</td>\n",
       "      <td>0.00</td>\n",
       "      <td>123.10</td>\n",
       "    </tr>\n",
       "    <tr>\n",
       "      <th>Fibrinogen</th>\n",
       "      <td>38809.0</td>\n",
       "      <td>2.301716</td>\n",
       "      <td>28.709166</td>\n",
       "      <td>0.00</td>\n",
       "      <td>0.00</td>\n",
       "      <td>0.00</td>\n",
       "      <td>0.00</td>\n",
       "      <td>894.00</td>\n",
       "    </tr>\n",
       "    <tr>\n",
       "      <th>Platelets</th>\n",
       "      <td>38809.0</td>\n",
       "      <td>12.870236</td>\n",
       "      <td>56.404094</td>\n",
       "      <td>0.00</td>\n",
       "      <td>0.00</td>\n",
       "      <td>0.00</td>\n",
       "      <td>0.00</td>\n",
       "      <td>1047.00</td>\n",
       "    </tr>\n",
       "    <tr>\n",
       "      <th>Age</th>\n",
       "      <td>38809.0</td>\n",
       "      <td>61.686347</td>\n",
       "      <td>16.416186</td>\n",
       "      <td>18.11</td>\n",
       "      <td>50.93</td>\n",
       "      <td>63.33</td>\n",
       "      <td>74.38</td>\n",
       "      <td>88.98</td>\n",
       "    </tr>\n",
       "    <tr>\n",
       "      <th>Gender</th>\n",
       "      <td>38809.0</td>\n",
       "      <td>0.614187</td>\n",
       "      <td>0.486793</td>\n",
       "      <td>0.00</td>\n",
       "      <td>0.00</td>\n",
       "      <td>1.00</td>\n",
       "      <td>1.00</td>\n",
       "      <td>1.00</td>\n",
       "    </tr>\n",
       "    <tr>\n",
       "      <th>Unit1</th>\n",
       "      <td>38809.0</td>\n",
       "      <td>0.253369</td>\n",
       "      <td>0.434946</td>\n",
       "      <td>0.00</td>\n",
       "      <td>0.00</td>\n",
       "      <td>0.00</td>\n",
       "      <td>1.00</td>\n",
       "      <td>1.00</td>\n",
       "    </tr>\n",
       "    <tr>\n",
       "      <th>Unit2</th>\n",
       "      <td>38809.0</td>\n",
       "      <td>0.264629</td>\n",
       "      <td>0.441141</td>\n",
       "      <td>0.00</td>\n",
       "      <td>0.00</td>\n",
       "      <td>0.00</td>\n",
       "      <td>1.00</td>\n",
       "      <td>1.00</td>\n",
       "    </tr>\n",
       "    <tr>\n",
       "      <th>HospAdmTime</th>\n",
       "      <td>38809.0</td>\n",
       "      <td>-49.969477</td>\n",
       "      <td>150.960632</td>\n",
       "      <td>-3269.10</td>\n",
       "      <td>-35.82</td>\n",
       "      <td>-2.21</td>\n",
       "      <td>-0.02</td>\n",
       "      <td>14.65</td>\n",
       "    </tr>\n",
       "    <tr>\n",
       "      <th>ICULOS</th>\n",
       "      <td>38809.0</td>\n",
       "      <td>27.010616</td>\n",
       "      <td>27.297357</td>\n",
       "      <td>1.00</td>\n",
       "      <td>11.00</td>\n",
       "      <td>21.00</td>\n",
       "      <td>35.00</td>\n",
       "      <td>258.00</td>\n",
       "    </tr>\n",
       "    <tr>\n",
       "      <th>SepsisLabel</th>\n",
       "      <td>38809.0</td>\n",
       "      <td>0.022263</td>\n",
       "      <td>0.147539</td>\n",
       "      <td>0.00</td>\n",
       "      <td>0.00</td>\n",
       "      <td>0.00</td>\n",
       "      <td>0.00</td>\n",
       "      <td>1.00</td>\n",
       "    </tr>\n",
       "  </tbody>\n",
       "</table>\n",
       "</div>"
      ],
      "text/plain": [
       "                    count        mean         std      min    25%     50%  \\\n",
       "HR                38809.0   77.644979   28.954355     0.00  69.00   82.00   \n",
       "O2Sat             38809.0   84.406233   32.984005     0.00  95.00   97.00   \n",
       "Temp              38809.0   12.551628   17.532129     0.00   0.00    0.00   \n",
       "SBP               38809.0  102.036081   47.501863     0.00  97.00  113.00   \n",
       "MAP               38809.0   69.932561   28.396126     0.00  65.00   74.67   \n",
       "DBP               38809.0   30.840501   31.363911     0.00   0.00   40.00   \n",
       "Resp              38809.0   16.584987    7.851959     0.00  14.00   17.00   \n",
       "EtCO2             38809.0    0.000000    0.000000     0.00   0.00    0.00   \n",
       "BaseExcess        38809.0   -0.081592    1.465309   -23.00   0.00    0.00   \n",
       "HCO3              38809.0    1.940723    6.674337     0.00   0.00    0.00   \n",
       "FiO2              38809.0    0.072084    0.192467     0.00   0.00    0.00   \n",
       "pH                38809.0    0.880694    2.391544     0.00   0.00    0.00   \n",
       "PaCO2             38809.0    3.801257   12.394481     0.00   0.00    0.00   \n",
       "SaO2              38809.0    4.744621   20.518373     0.00   0.00    0.00   \n",
       "AST               38809.0    5.133551  140.155826     0.00   0.00    0.00   \n",
       "BUN               38809.0    2.046858    9.250651     0.00   0.00    0.00   \n",
       "Alkalinephos      38809.0    1.832127   28.220754     0.00   0.00    0.00   \n",
       "Calcium           38809.0    0.390904    1.772047     0.00   0.00    0.00   \n",
       "Chloride          38809.0    8.664240   29.023809     0.00   0.00    0.00   \n",
       "Creatinine        38809.0    0.093941    0.530594     0.00   0.00    0.00   \n",
       "Bilirubin_direct  38809.0    0.006078    0.294231     0.00   0.00    0.00   \n",
       "Glucose           38809.0   16.657193   47.370475     0.00   0.00    0.00   \n",
       "Lactate           38809.0    0.087764    0.618773     0.00   0.00    0.00   \n",
       "Magnesium         38809.0    0.158243    0.558904     0.00   0.00    0.00   \n",
       "Phosphate         38809.0    0.177209    0.847756     0.00   0.00    0.00   \n",
       "Potassium         38809.0    0.468600    1.341371     0.00   0.00    0.00   \n",
       "Bilirubin_total   38809.0    0.033966    0.714853     0.00   0.00    0.00   \n",
       "TroponinI         38809.0    0.011912    0.558026     0.00   0.00    0.00   \n",
       "Hct               38809.0    3.669637   10.099608     0.00   0.00    0.00   \n",
       "Hgb               38809.0    0.947109    3.071712     0.00   0.00    0.00   \n",
       "PTT               38809.0    1.863872    9.753456     0.00   0.00    0.00   \n",
       "WBC               38809.0    0.884586    3.654393     0.00   0.00    0.00   \n",
       "Fibrinogen        38809.0    2.301716   28.709166     0.00   0.00    0.00   \n",
       "Platelets         38809.0   12.870236   56.404094     0.00   0.00    0.00   \n",
       "Age               38809.0   61.686347   16.416186    18.11  50.93   63.33   \n",
       "Gender            38809.0    0.614187    0.486793     0.00   0.00    1.00   \n",
       "Unit1             38809.0    0.253369    0.434946     0.00   0.00    0.00   \n",
       "Unit2             38809.0    0.264629    0.441141     0.00   0.00    0.00   \n",
       "HospAdmTime       38809.0  -49.969477  150.960632 -3269.10 -35.82   -2.21   \n",
       "ICULOS            38809.0   27.010616   27.297357     1.00  11.00   21.00   \n",
       "SepsisLabel       38809.0    0.022263    0.147539     0.00   0.00    0.00   \n",
       "\n",
       "                     75%      max  \n",
       "HR                 95.00   181.00  \n",
       "O2Sat              99.00   100.00  \n",
       "Temp               36.56    40.50  \n",
       "SBP               130.00   234.50  \n",
       "MAP                85.00   294.00  \n",
       "DBP                59.00   287.00  \n",
       "Resp               21.00    67.00  \n",
       "EtCO2               0.00     0.00  \n",
       "BaseExcess          0.00    24.00  \n",
       "HCO3                0.00    48.00  \n",
       "FiO2                0.00     1.00  \n",
       "pH                  0.00     7.58  \n",
       "PaCO2               0.00   100.00  \n",
       "SaO2                0.00   100.00  \n",
       "AST                 0.00  9640.00  \n",
       "BUN                 0.00   145.00  \n",
       "Alkalinephos        0.00  2121.00  \n",
       "Calcium             0.00    14.90  \n",
       "Chloride            0.00   131.00  \n",
       "Creatinine          0.00    11.90  \n",
       "Bilirubin_direct    0.00    29.10  \n",
       "Glucose             0.00   830.00  \n",
       "Lactate             0.00    18.30  \n",
       "Magnesium           0.00     8.30  \n",
       "Phosphate           0.00    11.20  \n",
       "Potassium           0.00     9.90  \n",
       "Bilirubin_total     0.00    39.00  \n",
       "TroponinI           0.00    46.00  \n",
       "Hct                 0.00    56.40  \n",
       "Hgb                 0.00    16.50  \n",
       "PTT                 0.00   150.00  \n",
       "WBC                 0.00   123.10  \n",
       "Fibrinogen          0.00   894.00  \n",
       "Platelets           0.00  1047.00  \n",
       "Age                74.38    88.98  \n",
       "Gender              1.00     1.00  \n",
       "Unit1               1.00     1.00  \n",
       "Unit2               1.00     1.00  \n",
       "HospAdmTime        -0.02    14.65  \n",
       "ICULOS             35.00   258.00  \n",
       "SepsisLabel         0.00     1.00  "
      ]
     },
     "execution_count": 7,
     "metadata": {},
     "output_type": "execute_result"
    }
   ],
   "source": [
    "dataset.describe(include=\"all\").T"
   ]
  },
  {
   "cell_type": "code",
   "execution_count": 8,
   "metadata": {},
   "outputs": [],
   "source": [
    "df_upsampled = pd.concat([df_majority, df_minority_upsampled])"
   ]
  },
  {
   "cell_type": "code",
   "execution_count": 9,
   "metadata": {},
   "outputs": [
    {
     "data": {
      "text/plain": [
       "<bound method NDFrame.head of           HR  O2Sat  Temp     SBP    MAP   DBP  Resp  EtCO2  BaseExcess  HCO3  \\\n",
       "0        0.0    0.0   0.0    0.00   0.00   0.0   0.0    0.0         0.0   0.0   \n",
       "1       97.0   95.0   0.0   98.00  75.33   0.0  19.0    0.0         0.0   0.0   \n",
       "2       89.0   99.0   0.0  122.00  86.00   0.0  22.0    0.0         0.0   0.0   \n",
       "3       90.0   95.0   0.0    0.00   0.00   0.0  30.0    0.0        24.0   0.0   \n",
       "4      103.0   88.5   0.0  122.00  91.33   0.0  24.5    0.0         0.0   0.0   \n",
       "...      ...    ...   ...     ...    ...   ...   ...    ...         ...   ...   \n",
       "14734  115.0   94.0   0.0   79.25  50.50  43.5  24.0    0.0        -1.0   0.0   \n",
       "10913    0.0    0.0   0.0    0.00   0.00   0.0   0.0    0.0         0.0   0.0   \n",
       "18804  109.0   93.0   0.0  113.00  75.00  61.0  26.0    0.0        -3.0  19.0   \n",
       "2382    82.0   94.0   0.0  104.00  69.00  52.0  18.0    0.0         0.0   0.0   \n",
       "10919  119.0   98.5   0.0  129.00  85.67   0.0  26.0    0.0         0.0   0.0   \n",
       "\n",
       "       ...  WBC  Fibrinogen  Platelets    Age  Gender  Unit1  Unit2  \\\n",
       "0      ...  0.0         0.0        0.0  83.14       0    0.0    0.0   \n",
       "1      ...  0.0         0.0        0.0  83.14       0    0.0    0.0   \n",
       "2      ...  0.0         0.0        0.0  83.14       0    0.0    0.0   \n",
       "3      ...  0.0         0.0        0.0  83.14       0    0.0    0.0   \n",
       "4      ...  0.0         0.0        0.0  83.14       0    0.0    0.0   \n",
       "...    ...  ...         ...        ...    ...     ...    ...    ...   \n",
       "14734  ...  0.0         0.0        0.0  81.95       0    0.0    0.0   \n",
       "10913  ...  0.0         0.0        0.0  26.17       0    1.0    0.0   \n",
       "18804  ...  7.5         0.0      116.0  37.31       1    0.0    0.0   \n",
       "2382   ...  0.0         0.0        0.0  41.77       1    0.0    0.0   \n",
       "10919  ...  0.0         0.0        0.0  26.17       0    1.0    0.0   \n",
       "\n",
       "       HospAdmTime  ICULOS  SepsisLabel  \n",
       "0            -0.03       1            0  \n",
       "1            -0.03       2            0  \n",
       "2            -0.03       3            0  \n",
       "3            -0.03       4            0  \n",
       "4            -0.03       5            0  \n",
       "...            ...     ...          ...  \n",
       "14734      -168.87       7            1  \n",
       "10913        -0.03      88            1  \n",
       "18804        -0.02      26            1  \n",
       "2382         -4.78      14            1  \n",
       "10919        -0.03      94            1  \n",
       "\n",
       "[75890 rows x 41 columns]>"
      ]
     },
     "execution_count": 9,
     "metadata": {},
     "output_type": "execute_result"
    }
   ],
   "source": [
    "df_upsampled.head"
   ]
  },
  {
   "cell_type": "code",
   "execution_count": 10,
   "metadata": {},
   "outputs": [
    {
     "data": {
      "text/plain": [
       "0    37945\n",
       "1    37945\n",
       "Name: SepsisLabel, dtype: int64"
      ]
     },
     "execution_count": 10,
     "metadata": {},
     "output_type": "execute_result"
    }
   ],
   "source": [
    "df_upsampled.SepsisLabel.value_counts()"
   ]
  },
  {
   "cell_type": "code",
   "execution_count": 11,
   "metadata": {},
   "outputs": [
    {
     "data": {
      "image/png": "[encoded data removed]",
      "text/plain": [
       "<Figure size 432x288 with 1 Axes>"
      ]
     },
     "metadata": {},
     "output_type": "display_data"
    },
    {
     "name": "stderr",
     "output_type": "stream",
     "text": [
      "C:\\Users\\saisr\\anaconda3\\lib\\site-packages\\seaborn\\_decorators.py:36: FutureWarning: Pass the following variable as a keyword arg: x. From version 0.12, the only valid positional argument will be `data`, and passing other arguments without an explicit keyword will result in an error or misinterpretation.\n",
      "  warnings.warn(\n"
     ]
    },
    {
     "data": {
      "image/png": "[encoded data removed]",
      "text/plain": [
       "<Figure size 432x288 with 1 Axes>"
      ]
     },
     "metadata": {
      "needs_background": "light"
     },
     "output_type": "display_data"
    }
   ],
   "source": [
    "plt.pie(df_upsampled['SepsisLabel'].value_counts(), labels=['1','0'], autopct='%1.1f%%', shadow=True)\n",
    "plt.show()\n",
    "sns.countplot(df_upsampled['SepsisLabel'], label=\"Count\")\n",
    "plt.show()"
   ]
  },
  {
   "cell_type": "code",
   "execution_count": 12,
   "metadata": {},
   "outputs": [],
   "source": [
    "X = df_upsampled[df_upsampled.columns[0:40]].values"
   ]
  },
  {
   "cell_type": "code",
   "execution_count": 13,
   "metadata": {},
   "outputs": [],
   "source": [
    "Y = df_upsampled[df_upsampled.columns[40:]].values"
   ]
  },
  {
   "cell_type": "code",
   "execution_count": 14,
   "metadata": {},
   "outputs": [
    {
     "name": "stdout",
     "output_type": "stream",
     "text": [
      "sepsis dimensions : (75890, 41)\n"
     ]
    }
   ],
   "source": [
    "print(\"sepsis dimensions : {}\".format(df_upsampled.shape))"
   ]
  },
  {
   "cell_type": "markdown",
   "metadata": {},
   "source": [
    "Printing dimensions of sepsis dataset without label column"
   ]
  },
  {
   "cell_type": "code",
   "execution_count": 15,
   "metadata": {},
   "outputs": [
    {
     "name": "stdout",
     "output_type": "stream",
     "text": [
      "sepsis dimensions without label : (75890, 40)\n"
     ]
    }
   ],
   "source": [
    "print(\"sepsis dimensions without label : {}\".format(X.shape))"
   ]
  },
  {
   "cell_type": "markdown",
   "metadata": {},
   "source": [
    "Printing dimensions of sepsis dataset only with label column"
   ]
  },
  {
   "cell_type": "code",
   "execution_count": 16,
   "metadata": {},
   "outputs": [
    {
     "name": "stdout",
     "output_type": "stream",
     "text": [
      "sepsis dimensions only label : (75890, 1)\n"
     ]
    }
   ],
   "source": [
    "print(\"sepsis dimensions only label : {}\".format(Y.shape))"
   ]
  },
  {
   "cell_type": "markdown",
   "metadata": {},
   "source": [
    "LabelEncoder is used to normalize labels."
   ]
  },
  {
   "cell_type": "code",
   "execution_count": 17,
   "metadata": {},
   "outputs": [
    {
     "name": "stderr",
     "output_type": "stream",
     "text": [
      "C:\\Users\\saisr\\anaconda3\\lib\\site-packages\\sklearn\\utils\\validation.py:63: DataConversionWarning: A column-vector y was passed when a 1d array was expected. Please change the shape of y to (n_samples, ), for example using ravel().\n",
      "  return f(*args, **kwargs)\n"
     ]
    }
   ],
   "source": [
    "labelencoder_Y = preprocessing.LabelEncoder()\n",
    "Y = labelencoder_Y.fit_transform(Y)"
   ]
  },
  {
   "cell_type": "code",
   "execution_count": 18,
   "metadata": {},
   "outputs": [
    {
     "data": {
      "text/plain": [
       "<bound method NDFrame.describe of           HR  O2Sat  Temp     SBP    MAP   DBP  Resp  EtCO2  BaseExcess  HCO3  \\\n",
       "0        0.0    0.0   0.0    0.00   0.00   0.0   0.0    0.0         0.0   0.0   \n",
       "1       97.0   95.0   0.0   98.00  75.33   0.0  19.0    0.0         0.0   0.0   \n",
       "2       89.0   99.0   0.0  122.00  86.00   0.0  22.0    0.0         0.0   0.0   \n",
       "3       90.0   95.0   0.0    0.00   0.00   0.0  30.0    0.0        24.0   0.0   \n",
       "4      103.0   88.5   0.0  122.00  91.33   0.0  24.5    0.0         0.0   0.0   \n",
       "...      ...    ...   ...     ...    ...   ...   ...    ...         ...   ...   \n",
       "14734  115.0   94.0   0.0   79.25  50.50  43.5  24.0    0.0        -1.0   0.0   \n",
       "10913    0.0    0.0   0.0    0.00   0.00   0.0   0.0    0.0         0.0   0.0   \n",
       "18804  109.0   93.0   0.0  113.00  75.00  61.0  26.0    0.0        -3.0  19.0   \n",
       "2382    82.0   94.0   0.0  104.00  69.00  52.0  18.0    0.0         0.0   0.0   \n",
       "10919  119.0   98.5   0.0  129.00  85.67   0.0  26.0    0.0         0.0   0.0   \n",
       "\n",
       "       ...  WBC  Fibrinogen  Platelets    Age  Gender  Unit1  Unit2  \\\n",
       "0      ...  0.0         0.0        0.0  83.14       0    0.0    0.0   \n",
       "1      ...  0.0         0.0        0.0  83.14       0    0.0    0.0   \n",
       "2      ...  0.0         0.0        0.0  83.14       0    0.0    0.0   \n",
       "3      ...  0.0         0.0        0.0  83.14       0    0.0    0.0   \n",
       "4      ...  0.0         0.0        0.0  83.14       0    0.0    0.0   \n",
       "...    ...  ...         ...        ...    ...     ...    ...    ...   \n",
       "14734  ...  0.0         0.0        0.0  81.95       0    0.0    0.0   \n",
       "10913  ...  0.0         0.0        0.0  26.17       0    1.0    0.0   \n",
       "18804  ...  7.5         0.0      116.0  37.31       1    0.0    0.0   \n",
       "2382   ...  0.0         0.0        0.0  41.77       1    0.0    0.0   \n",
       "10919  ...  0.0         0.0        0.0  26.17       0    1.0    0.0   \n",
       "\n",
       "       HospAdmTime  ICULOS  SepsisLabel  \n",
       "0            -0.03       1            0  \n",
       "1            -0.03       2            0  \n",
       "2            -0.03       3            0  \n",
       "3            -0.03       4            0  \n",
       "4            -0.03       5            0  \n",
       "...            ...     ...          ...  \n",
       "14734      -168.87       7            1  \n",
       "10913        -0.03      88            1  \n",
       "18804        -0.02      26            1  \n",
       "2382         -4.78      14            1  \n",
       "10919        -0.03      94            1  \n",
       "\n",
       "[75890 rows x 41 columns]>"
      ]
     },
     "execution_count": 18,
     "metadata": {},
     "output_type": "execute_result"
    }
   ],
   "source": [
    "df_upsampled.describe"
   ]
  },
  {
   "cell_type": "markdown",
   "metadata": {},
   "source": [
    "For splitting data into train set and test set, train_test_split function is used"
   ]
  },
  {
   "cell_type": "code",
   "execution_count": 19,
   "metadata": {},
   "outputs": [
    {
     "name": "stdout",
     "output_type": "stream",
     "text": [
      "Training data dimensions :(60712, 40)\n",
      "Testing data dimensions :(15178, 40)\n"
     ]
    }
   ],
   "source": [
    "X_train, X_test, Y_train, Y_test = train_test_split(X, Y, test_size=0.20, random_state=0)\n",
    "print(\"Training data dimensions :{}\".format(X_train.shape))\n",
    "print(\"Testing data dimensions :{}\".format(X_test.shape))"
   ]
  },
  {
   "cell_type": "code",
   "execution_count": 20,
   "metadata": {
    "scrolled": true
   },
   "outputs": [
    {
     "name": "stdout",
     "output_type": "stream",
     "text": [
      "==============================\n",
      "AdaBoostClassifier\n",
      "****Results****\n",
      "Accuracy: 79.8261%\n",
      "Log Loss: 0.673179268387368\n",
      "==============================\n",
      "GaussianNB\n",
      "****Results****\n",
      "Accuracy: 57.7678%\n",
      "Log Loss: 2.120984212868764\n",
      "==============================\n",
      "LinearDiscriminantAnalysis\n",
      "****Results****\n",
      "Accuracy: 72.4074%\n",
      "Log Loss: 0.5490759157904654\n",
      "==============================\n",
      "LGBMClassifier\n",
      "****Results****\n",
      "Accuracy: 98.8734%\n",
      "Log Loss: 0.06489765864157232\n",
      "==============================\n"
     ]
    }
   ],
   "source": [
    "from sklearn.metrics import accuracy_score, log_loss\n",
    "from sklearn.neighbors import KNeighborsClassifier\n",
    "from sklearn.svm import SVC, LinearSVC, NuSVC\n",
    "from sklearn.tree import DecisionTreeClassifier\n",
    "from sklearn.ensemble import RandomForestClassifier, AdaBoostClassifier, GradientBoostingClassifier\n",
    "from sklearn.naive_bayes import GaussianNB\n",
    "\n",
    "from lightgbm import LGBMClassifier\n",
    "from sklearn.discriminant_analysis import LinearDiscriminantAnalysis\n",
    "from sklearn.discriminant_analysis import QuadraticDiscriminantAnalysis\n",
    "from sklearn.neural_network import MLPClassifier\n",
    "classifiers = [\n",
    "    \n",
    "    AdaBoostClassifier(),\n",
    "    \n",
    "    GaussianNB(),\n",
    "    LinearDiscriminantAnalysis(),\n",
    "    LGBMClassifier()\n",
    "    \n",
    "    ]\n",
    "\n",
    "# Logging for Visual Comparison\n",
    "log_cols=[\"Classifier\", \"Accuracy\", \"Log Loss\"]\n",
    "log = pd.DataFrame(columns=log_cols)\n",
    "\n",
    "for clf in classifiers:\n",
    "    clf.fit(X_train, Y_train)\n",
    "    name = clf.__class__.__name__\n",
    "    \n",
    "    print(\"=\"*30)\n",
    "    print(name)\n",
    "    \n",
    "    print('****Results****')\n",
    "    train_predictions = clf.predict(X_test)\n",
    "    acc = accuracy_score(Y_test, train_predictions)\n",
    "    print(\"Accuracy: {:.4%}\".format(acc))\n",
    "    \n",
    "    train_predictions = clf.predict_proba(X_test)\n",
    "    ll = log_loss(Y_test, train_predictions)\n",
    "    print(\"Log Loss: {}\".format(ll))\n",
    "    \n",
    "    log_entry = pd.DataFrame([[name, acc*100, ll]], columns=log_cols)\n",
    "    log = log.append(log_entry)\n",
    "    \n",
    "print(\"=\"*30)"
   ]
  },
  {
   "cell_type": "markdown",
   "metadata": {},
   "source": [
    "For comparision purpose, We have printed Bar Graph for Classifier Accuracy and Classifier Log Loss."
   ]
  },
  {
   "cell_type": "code",
   "execution_count": 21,
   "metadata": {
    "scrolled": true
   },
   "outputs": [
    {
     "data": {
      "image/png": "[encoded data removed]",
      "text/plain": [
       "<Figure size 432x288 with 1 Axes>"
      ]
     },
     "metadata": {
      "needs_background": "light"
     },
     "output_type": "display_data"
    },
    {
     "data": {
      "image/png": "[encoded data removed]",
      "text/plain": [
       "<Figure size 432x288 with 1 Axes>"
      ]
     },
     "metadata": {
      "needs_background": "light"
     },
     "output_type": "display_data"
    }
   ],
   "source": [
    "\n",
    "sns.barplot(x='Classifier', y='Accuracy', data=log, color=\"r\")\n",
    "\n",
    "plt.xlabel('Accuracy %')\n",
    "plt.title('Classifier Accuracy')\n",
    "plt.show()\n",
    "\n",
    "sns.set_color_codes(\"muted\")\n",
    "sns.barplot(x='Classifier', y='Log Loss', data=log, color=\"g\")\n",
    "\n",
    "plt.xlabel('Log Loss')\n",
    "plt.title('Classifier Log Loss')\n",
    "plt.show()"
   ]
  },
  {
   "cell_type": "code",
   "execution_count": 22,
   "metadata": {},
   "outputs": [
    {
     "name": "stderr",
     "output_type": "stream",
     "text": [
      "C:\\Users\\saisr\\anaconda3\\lib\\site-packages\\sklearn\\neural_network\\_multilayer_perceptron.py:500: ConvergenceWarning: lbfgs failed to converge (status=1):\n",
      "STOP: TOTAL NO. of ITERATIONS REACHED LIMIT.\n",
      "\n",
      "Increase the number of iterations (max_iter) or scale the data as shown in:\n",
      "    https://scikit-learn.org/stable/modules/preprocessing.html\n",
      "  self.n_iter_ = _check_optimize_result(\"lbfgs\", opt_res, self.max_iter)\n"
     ]
    }
   ],
   "source": [
    "\n",
    "\n",
    "clf = MLPClassifier(activation='tanh',hidden_layer_sizes=(40,10,10,10,10, 2), max_iter=13000,early_stopping=False,solver='lbfgs',batch_size='auto', verbose=10,  learning_rate_init=1e-5,  random_state=1,tol=1e-4)\n",
    "\n",
    "clf.fit(X_train, Y_train)\n",
    "y_pred1 = clf.predict(X_test)\n",
    "y_pred = clf.predict_proba(X_test)\n",
    "\n"
   ]
  },
  {
   "cell_type": "code",
   "execution_count": 23,
   "metadata": {},
   "outputs": [
    {
     "name": "stdout",
     "output_type": "stream",
     "text": [
      "0.9453814731848729\n",
      "Log Loss: 0.06489765864157232\n"
     ]
    }
   ],
   "source": [
    "from sklearn.metrics import accuracy_score\n",
    "from sklearn.metrics import confusion_matrix\n",
    "acc1= accuracy_score(Y_test, y_pred1)\n",
    "print(accuracy_score(Y_test, y_pred1))\n",
    "l2 = log_loss(Y_test, y_pred)\n",
    "print(\"Log Loss: {}\".format(ll))\n",
    "name = clf.__class__.__name__\n",
    "log_entry = pd.DataFrame([[name, acc1*100, l2]], columns=log_cols)\n",
    "log = log.append(log_entry)\n",
    "    \n",
    "\n",
    "    \n",
    "    \n"
   ]
  },
  {
   "cell_type": "code",
   "execution_count": 24,
   "metadata": {},
   "outputs": [
    {
     "data": {
      "image/png": "[encoded data removed]",
      "text/plain": [
       "<Figure size 432x288 with 1 Axes>"
      ]
     },
     "metadata": {
      "needs_background": "light"
     },
     "output_type": "display_data"
    },
    {
     "data": {
      "image/png": "[encoded data removed]",
      "text/plain": [
       "<Figure size 432x288 with 1 Axes>"
      ]
     },
     "metadata": {
      "needs_background": "light"
     },
     "output_type": "display_data"
    }
   ],
   "source": [
    "\n",
    "sns.barplot(x='Classifier', y='Accuracy', data=log, color=\"r\")\n",
    "\n",
    "plt.xlabel('Accuracy %')\n",
    "plt.title('Classifier Accuracy')\n",
    "plt.show()\n",
    "\n",
    "sns.set_color_codes(\"muted\")\n",
    "sns.barplot(x='Classifier', y='Log Loss', data=log, color=\"g\")\n",
    "\n",
    "plt.xlabel('Log Loss')\n",
    "plt.title('Classifier Log Loss')\n",
    "plt.show()"
   ]
  },
  {
   "cell_type": "code",
   "execution_count": null,
   "metadata": {},
   "outputs": [],
   "source": []
  }
 ],
 "metadata": {
  "kernelspec": {
   "display_name": "Python 3 (ipykernel)",
   "language": "python",
   "name": "python3"
  },
  "language_info": {
   "codemirror_mode": {
    "name": "ipython",
    "version": 3
   },
   "file_extension": ".py",
   "mimetype": "text/x-python",
   "name": "python",
   "nbconvert_exporter": "python",
   "pygments_lexer": "ipython3",
   "version": "3.9.7"
  }
 },
 "nbformat": 4,
 "nbformat_minor": 2
}
